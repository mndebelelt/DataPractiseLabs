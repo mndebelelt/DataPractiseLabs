{
 "cells": [
  {
   "cell_type": "markdown",
   "metadata": {
    "collapsed": true
   },
   "source": [
    "## Mobile App for Lottery Addiction"
   ]
  },
  {
   "cell_type": "markdown",
   "metadata": {},
   "source": [
    "In this project, we’ll help develop a mobile app by writing functions that calculate lottery-related probabilities. The app aims to prevent and treat lottery addiction by helping users better understand their odds of winning.\n",
    "\n",
    "The idea comes from a gambling addiction treatment institute. While their engineers will build the app, we’ll provide the core logic for calculating probabilities—focusing on the 6/49 lottery.\n",
    "\n",
    "We'll build functions to answer questions like:\n",
    "\n",
    "- What’s the chance of winning the jackpot with one ticket?\n",
    "\n",
    "- What if I play 40 different tickets?\n",
    "\n",
    "- What are the odds of matching at least 3, 4, or 5 numbers?\n",
    "\n",
    "The scenario is fictional and designed to practice probability and combinatorics in a real-world-like context."
   ]
  },
  {
   "cell_type": "markdown",
   "metadata": {},
   "source": [
    "### Core Functions "
   ]
  },
  {
   "cell_type": "markdown",
   "metadata": {},
   "source": [
    "- factorial() - calculates factorials \n",
    "- combinations() - calculates combinations"
   ]
  },
  {
   "cell_type": "code",
   "execution_count": 1,
   "metadata": {
    "collapsed": true
   },
   "outputs": [],
   "source": [
    "import math\n",
    "def factorial(n):\n",
    "    return math.factorial(n)\n",
    "\n",
    "def combinations(n,k):\n",
    "    return math.factorial(n) // (math.factorial(k) * math.factorial(n - k))\n",
    "\n",
    "## Why implement new ones when we can import a more stable version\n",
    "        "
   ]
  },
  {
   "cell_type": "markdown",
   "metadata": {},
   "source": [
    "### One-ticket Probability"
   ]
  },
  {
   "cell_type": "markdown",
   "metadata": {},
   "source": [
    "Now that we've implemented **factorial()** and **combinations()**, we’re ready to calculate the probability of winning the big prize in a 6/49 lottery.\n",
    "\n",
    "In this lottery, six unique numbers are drawn from a pool of 49. To win the jackpot, the numbers on a player's ticket must exactly match the six drawn — no extras, no substitutions.\n",
    "\n",
    "To support this in the app, we need a function that:\n",
    "\n",
    "- Accepts a list of six numbers (entered by the user),\n",
    "\n",
    "- Computes the probability of winning with that one ticket,\n",
    "\n",
    "- And prints the result in a way that's easy for anyone to understand — even without a background in math or probability.\n",
    "\n",
    "Let’s implement this logic in a function called **one_ticket_probability()**"
   ]
  },
  {
   "cell_type": "code",
   "execution_count": 2,
   "metadata": {
    "collapsed": false
   },
   "outputs": [],
   "source": [
    "def one_ticket_probability(user_numbers):\n",
    "    total_possible_outcomes = combinations(49, 6)\n",
    "    winning_outcomes = 1\n",
    "\n",
    "    probability = winning_outcomes / total_possible_outcomes\n",
    "\n",
    "    print(\"Your numbers: {}\".format(sorted(user_numbers)))\n",
    "    print(\"Chance of winning the big prize: 1 in {:,}\".format(total_possible_outcomes))\n",
    "    print(\"That's about {:.10f}, or {:.12f}%\".format(probability, probability * 100))\n"
   ]
  },
  {
   "cell_type": "markdown",
   "metadata": {},
   "source": [
    "Test our one_ticket_probability()"
   ]
  },
  {
   "cell_type": "code",
   "execution_count": 3,
   "metadata": {
    "collapsed": false
   },
   "outputs": [
    {
     "name": "stdout",
     "output_type": "stream",
     "text": [
      "Your numbers: [13, 22, 24, 27, 42, 44]\n",
      "Chance of winning the big prize: 1 in 13,983,816\n",
      "That's about 0.0000000715, or 0.000007151124%\n"
     ]
    }
   ],
   "source": [
    "one_ticket_probability([13, 22, 24, 27, 42, 44])"
   ]
  },
  {
   "cell_type": "markdown",
   "metadata": {},
   "source": [
    "### Historical Data Check for Canada Lottery "
   ]
  },
  {
   "cell_type": "markdown",
   "metadata": {},
   "source": [
    " The institute also asked us to take into account historical data from Canada’s national 6/49 lottery. The dataset includes records from 3,665 past draws, spanning the period from 1982 to 2018. (You can download the dataset from [Canada 6/49 Lottery Dataset on Kaggle](https://www.kaggle.com/datasets/datascienceai/lottery-dataset)\n",
    ")"
   ]
  },
  {
   "cell_type": "code",
   "execution_count": 4,
   "metadata": {
    "collapsed": false
   },
   "outputs": [
    {
     "data": {
      "text/plain": [
       "(3665, 11)"
      ]
     },
     "execution_count": 4,
     "metadata": {},
     "output_type": "execute_result"
    }
   ],
   "source": [
    "import pandas as pd \n",
    "lottery_canada = pd.read_csv('649.csv')\n",
    "lottery_canada.shape"
   ]
  },
  {
   "cell_type": "code",
   "execution_count": 5,
   "metadata": {
    "collapsed": false
   },
   "outputs": [
    {
     "data": {
      "text/html": [
       "<div>\n",
       "<style scoped>\n",
       "    .dataframe tbody tr th:only-of-type {\n",
       "        vertical-align: middle;\n",
       "    }\n",
       "\n",
       "    .dataframe tbody tr th {\n",
       "        vertical-align: top;\n",
       "    }\n",
       "\n",
       "    .dataframe thead th {\n",
       "        text-align: right;\n",
       "    }\n",
       "</style>\n",
       "<table border=\"1\" class=\"dataframe\">\n",
       "  <thead>\n",
       "    <tr style=\"text-align: right;\">\n",
       "      <th></th>\n",
       "      <th>PRODUCT</th>\n",
       "      <th>DRAW NUMBER</th>\n",
       "      <th>SEQUENCE NUMBER</th>\n",
       "      <th>DRAW DATE</th>\n",
       "      <th>NUMBER DRAWN 1</th>\n",
       "      <th>NUMBER DRAWN 2</th>\n",
       "      <th>NUMBER DRAWN 3</th>\n",
       "      <th>NUMBER DRAWN 4</th>\n",
       "      <th>NUMBER DRAWN 5</th>\n",
       "      <th>NUMBER DRAWN 6</th>\n",
       "      <th>BONUS NUMBER</th>\n",
       "    </tr>\n",
       "  </thead>\n",
       "  <tbody>\n",
       "    <tr>\n",
       "      <th>0</th>\n",
       "      <td>649</td>\n",
       "      <td>1</td>\n",
       "      <td>0</td>\n",
       "      <td>6/12/1982</td>\n",
       "      <td>3</td>\n",
       "      <td>11</td>\n",
       "      <td>12</td>\n",
       "      <td>14</td>\n",
       "      <td>41</td>\n",
       "      <td>43</td>\n",
       "      <td>13</td>\n",
       "    </tr>\n",
       "    <tr>\n",
       "      <th>1</th>\n",
       "      <td>649</td>\n",
       "      <td>2</td>\n",
       "      <td>0</td>\n",
       "      <td>6/19/1982</td>\n",
       "      <td>8</td>\n",
       "      <td>33</td>\n",
       "      <td>36</td>\n",
       "      <td>37</td>\n",
       "      <td>39</td>\n",
       "      <td>41</td>\n",
       "      <td>9</td>\n",
       "    </tr>\n",
       "    <tr>\n",
       "      <th>2</th>\n",
       "      <td>649</td>\n",
       "      <td>3</td>\n",
       "      <td>0</td>\n",
       "      <td>6/26/1982</td>\n",
       "      <td>1</td>\n",
       "      <td>6</td>\n",
       "      <td>23</td>\n",
       "      <td>24</td>\n",
       "      <td>27</td>\n",
       "      <td>39</td>\n",
       "      <td>34</td>\n",
       "    </tr>\n",
       "    <tr>\n",
       "      <th>3</th>\n",
       "      <td>649</td>\n",
       "      <td>4</td>\n",
       "      <td>0</td>\n",
       "      <td>7/3/1982</td>\n",
       "      <td>3</td>\n",
       "      <td>9</td>\n",
       "      <td>10</td>\n",
       "      <td>13</td>\n",
       "      <td>20</td>\n",
       "      <td>43</td>\n",
       "      <td>34</td>\n",
       "    </tr>\n",
       "    <tr>\n",
       "      <th>4</th>\n",
       "      <td>649</td>\n",
       "      <td>5</td>\n",
       "      <td>0</td>\n",
       "      <td>7/10/1982</td>\n",
       "      <td>5</td>\n",
       "      <td>14</td>\n",
       "      <td>21</td>\n",
       "      <td>31</td>\n",
       "      <td>34</td>\n",
       "      <td>47</td>\n",
       "      <td>45</td>\n",
       "    </tr>\n",
       "  </tbody>\n",
       "</table>\n",
       "</div>"
      ],
      "text/plain": [
       "   PRODUCT  DRAW NUMBER  SEQUENCE NUMBER  DRAW DATE  NUMBER DRAWN 1  \\\n",
       "0      649            1                0  6/12/1982               3   \n",
       "1      649            2                0  6/19/1982               8   \n",
       "2      649            3                0  6/26/1982               1   \n",
       "3      649            4                0   7/3/1982               3   \n",
       "4      649            5                0  7/10/1982               5   \n",
       "\n",
       "   NUMBER DRAWN 2  NUMBER DRAWN 3  NUMBER DRAWN 4  NUMBER DRAWN 5  \\\n",
       "0              11              12              14              41   \n",
       "1              33              36              37              39   \n",
       "2               6              23              24              27   \n",
       "3               9              10              13              20   \n",
       "4              14              21              31              34   \n",
       "\n",
       "   NUMBER DRAWN 6  BONUS NUMBER  \n",
       "0              43            13  \n",
       "1              41             9  \n",
       "2              39            34  \n",
       "3              43            34  \n",
       "4              47            45  "
      ]
     },
     "execution_count": 5,
     "metadata": {},
     "output_type": "execute_result"
    }
   ],
   "source": [
    "lottery_canada.head()"
   ]
  },
  {
   "cell_type": "markdown",
   "metadata": {
    "collapsed": true
   },
   "source": [
    "### Function for Historical Data Check "
   ]
  },
  {
   "cell_type": "markdown",
   "metadata": {},
   "source": [
    "In the previous step, we explored the Canada 6/49 lottery dataset. Now, we'll write a function that allows users to check whether their chosen ticket has ever won the big prize in the past.\n",
    "\n",
    "The engineering team highlighted a few key requirements for this step:\n",
    "\n",
    "- Users will input six unique numbers between 1 and 49, which will be passed to our function as a Python list.\n",
    "\n",
    "- The function should:\n",
    "    1. Show how many times the exact combination has appeared in past draws.\n",
    "    2. Display the probability of winning the big prize in the next draw with that same combination\n",
    "    \n",
    "We'll start by extracting the winning numbers from each draw as Python sets for easy comparison. The **extract_numbers()** function will handle this and be applied across the dataset.\n",
    "\n",
    "Next, we'll write **check_historical_occurence()** to:\n",
    "\n",
    "- Convert the user's numbers into a set,\n",
    "\n",
    "- Compare them to past draws,\n",
    "\n",
    "- Print how many times the combo has occurred,\n",
    "\n",
    "- And show the probability of winning in the next draw in a user-friendly way.\n",
    "\n",
    "This helps users understand how often their numbers have appeared — and how rare a jackpot win really is."
   ]
  },
  {
   "cell_type": "code",
   "execution_count": 6,
   "metadata": {
    "collapsed": false
   },
   "outputs": [
    {
     "data": {
      "text/plain": [
       "0    {3, 41, 11, 12, 43, 14}\n",
       "1    {33, 36, 37, 39, 8, 41}\n",
       "2     {1, 6, 39, 23, 24, 27}\n",
       "3     {3, 9, 10, 43, 13, 20}\n",
       "4    {34, 5, 14, 47, 21, 31}\n",
       "dtype: object"
      ]
     },
     "execution_count": 6,
     "metadata": {},
     "output_type": "execute_result"
    }
   ],
   "source": [
    "def extract_numbers(row):\n",
    "    row = row[4:10]\n",
    "    row = set(row.values)\n",
    "    return row\n",
    "\n",
    "winning_numbers = lottery_canada.apply(extract_numbers, axis=1)\n",
    "winning_numbers.head()"
   ]
  },
  {
   "cell_type": "code",
   "execution_count": 8,
   "metadata": {
    "collapsed": false
   },
   "outputs": [],
   "source": [
    "def check_historical_occurrence(user_numbers, historical_numbers):\n",
    "    '''\n",
    "    user_numbers: a Python list\n",
    "    historical numbers: a pandas Series\n",
    "    '''\n",
    "    \n",
    "    user_numbers_set = set(user_numbers)\n",
    "    check_occurrence = historical_numbers == user_numbers_set\n",
    "    n_occurrences = check_occurrence.sum()\n",
    "    \n",
    "    if n_occurrences == 0:\n",
    "        print('''The combination {} has never occured.\n",
    "This doesn't mean it's more likely to occur now. Your chances to win the big prize in the next drawing using the combination {} are 0.0000072%.\n",
    "In other words, you have a 1 in 13,983,816 chances to win.'''.format(user_numbers, user_numbers))\n",
    "        \n",
    "    else:\n",
    "        print('''The number of times combination {} has occured in the past is {}.\n",
    "Your chances to win the big prize in the next drawing using the combination {} are 0.0000072%.\n",
    "In other words, you have a 1 in 13,983,816 chances to win.'''.format(user_numbers, n_occurrences,\n",
    "                                                                            user_numbers))"
   ]
  },
  {
   "cell_type": "code",
   "execution_count": 9,
   "metadata": {
    "collapsed": false
   },
   "outputs": [
    {
     "name": "stdout",
     "output_type": "stream",
     "text": [
      "The number of times combination [33, 36, 37, 39, 8, 41] has occured in the past is 1.\n",
      "Your chances to win the big prize in the next drawing using the combination [33, 36, 37, 39, 8, 41] are 0.0000072%.\n",
      "In other words, you have a 1 in 13,983,816 chances to win.\n"
     ]
    }
   ],
   "source": [
    "test_input_3 = [33, 36, 37, 39, 8, 41]\n",
    "check_historical_occurrence(test_input_3, winning_numbers)"
   ]
  },
  {
   "cell_type": "code",
   "execution_count": 10,
   "metadata": {
    "collapsed": false
   },
   "outputs": [
    {
     "name": "stdout",
     "output_type": "stream",
     "text": [
      "The combination [3, 2, 44, 22, 1, 44] has never occured.\n",
      "This doesn't mean it's more likely to occur now. Your chances to win the big prize in the next drawing using the combination [3, 2, 44, 22, 1, 44] are 0.0000072%.\n",
      "In other words, you have a 1 in 13,983,816 chances to win.\n"
     ]
    }
   ],
   "source": [
    "test_input_4 = [3, 2, 44, 22, 1, 44]\n",
    "check_historical_occurrence(test_input_4, winning_numbers)"
   ]
  },
  {
   "cell_type": "markdown",
   "metadata": {},
   "source": [
    "### Multi-ticket Probability"
   ]
  },
  {
   "cell_type": "markdown",
   "metadata": {},
   "source": [
    "In this step, we’ll write a function that helps users estimate their chances of winning the big prize when playing multiple different tickets in a single lottery draw.\n",
    "\n",
    "The engineering team shared the following:\n",
    "\n",
    "- Users will input the number of unique tickets they plan to play — as an integer between 1 and 13,983,816.\n",
    "\n",
    "- The function should calculate and print the probability of winning with that number of tickets in a way that’s easy to understand.\n",
    "\n",
    "We’ll use our previously defined **combinations()** function to compute the total number of possible outcomes, then use this to determine the winning probability for the number of tickets played.\n",
    "\n",
    "Let’s now implement the **multi_ticket_probability()** function"
   ]
  },
  {
   "cell_type": "code",
   "execution_count": 11,
   "metadata": {
    "collapsed": true
   },
   "outputs": [],
   "source": [
    "def multi_ticket_probability(n_tickets):\n",
    "    total_combinations = combinations(49, 6)\n",
    "    probability = n_tickets / total_combinations\n",
    "    percentage = probability * 100\n",
    "\n",
    "    if n_tickets == 1:\n",
    "        print(\"Your chance of winning the big prize with one ticket is {:.6f}%.\".format(percentage))\n",
    "        print(\"In other words, you have a 1 in {:,} chance of winning.\".format(total_combinations))\n",
    "    else:\n",
    "        simplified_odds = round(total_combinations / n_tickets)\n",
    "        print(\"Your chance of winning the big prize with {:,} tickets is {:.6f}%.\".format(n_tickets, percentage))\n",
    "        print(\"In other words, you have a 1 in {:,} chance of winning.\".format(simplified_odds))\n"
   ]
  },
  {
   "cell_type": "code",
   "execution_count": 12,
   "metadata": {
    "collapsed": false
   },
   "outputs": [
    {
     "name": "stdout",
     "output_type": "stream",
     "text": [
      "Your chance of winning the big prize with one ticket is 0.000007%.\n",
      "In other words, you have a 1 in 13,983,816 chance of winning.\n",
      "------------------------\n",
      "Your chance of winning the big prize with 10 tickets is 0.000072%.\n",
      "In other words, you have a 1 in 1,398,382 chance of winning.\n",
      "------------------------\n",
      "Your chance of winning the big prize with 100 tickets is 0.000715%.\n",
      "In other words, you have a 1 in 139,838 chance of winning.\n",
      "------------------------\n",
      "Your chance of winning the big prize with 10,000 tickets is 0.071511%.\n",
      "In other words, you have a 1 in 1,398 chance of winning.\n",
      "------------------------\n",
      "Your chance of winning the big prize with 1,000,000 tickets is 7.151124%.\n",
      "In other words, you have a 1 in 14 chance of winning.\n",
      "------------------------\n",
      "Your chance of winning the big prize with 6,991,908 tickets is 50.000000%.\n",
      "In other words, you have a 1 in 2 chance of winning.\n",
      "------------------------\n",
      "Your chance of winning the big prize with 13,983,816 tickets is 100.000000%.\n",
      "In other words, you have a 1 in 1 chance of winning.\n",
      "------------------------\n"
     ]
    }
   ],
   "source": [
    "test_inputs = [1, 10, 100, 10000, 1000000, 6991908, 13983816]\n",
    "\n",
    "for test_input in test_inputs:\n",
    "    multi_ticket_probability(test_input)\n",
    "    print('------------------------') # output delimiter"
   ]
  },
  {
   "cell_type": "markdown",
   "metadata": {},
   "source": [
    "### Probability of Matching 2 to 5 Winning Numbers"
   ]
  },
  {
   "cell_type": "markdown",
   "metadata": {},
   "source": [
    "In most 6/49 lotteries, players can win smaller prizes by matching exactly 2, 3, 4, or 5 of the 6 winning numbers. To support this, we’ll write a function that helps users estimate the chances of matching a specific number of winning numbers.\n",
    "\n",
    "Key Details from the Engineering Team:\n",
    "- Users will input:\n",
    "\n",
    "    - A set of 6 numbers between 1 and 49 (handled elsewhere in the app), and\n",
    "\n",
    "    - An integer between 2 and 5 representing the number of winning numbers they expect.\n",
    "\n",
    "- The function should calculate and print the probability of matching exactly that number of winning numbers.\n",
    "\n",
    "Note: We’re not calculating \"at least\" — only exact matches"
   ]
  },
  {
   "cell_type": "code",
   "execution_count": 15,
   "metadata": {
    "collapsed": false
   },
   "outputs": [],
   "source": [
    "def probability_less_6(n_winning_numbers):\n",
    "    if n_winning_numbers not in [2, 3, 4, 5]:\n",
    "        print(\"Please enter a number between 2 and 5.\")\n",
    "        return\n",
    "\n",
    "    # Step 1: Calculate successful outcomes\n",
    "    match_combinations = combinations(6, n_winning_numbers)\n",
    "    remaining_combinations = combinations(43, 6 - n_winning_numbers)\n",
    "    successful_outcomes = match_combinations * remaining_combinations\n",
    "\n",
    "    # Step 2: Calculate total possible outcomes\n",
    "    total_combinations = combinations(49, 6)\n",
    "\n",
    "    # Step 3: Calculate and display probability\n",
    "    probability = successful_outcomes / total_combinations\n",
    "    percentage = probability * 100\n",
    "    odds = round(total_combinations / successful_outcomes)\n",
    "\n",
    "    print(\"Your chances of matching exactly {} winning numbers are {:.6f}%.\".format(n_winning_numbers, percentage))\n",
    "    print(\"In other words, you have a 1 in {:,} chance.\".format(odds))\n"
   ]
  },
  {
   "cell_type": "code",
   "execution_count": 16,
   "metadata": {
    "collapsed": false
   },
   "outputs": [
    {
     "name": "stdout",
     "output_type": "stream",
     "text": [
      "Your chances of matching exactly 2 winning numbers are 13.237803%.\n",
      "In other words, you have a 1 in 8 chance.\n",
      "--------------------------\n",
      "Your chances of matching exactly 3 winning numbers are 1.765040%.\n",
      "In other words, you have a 1 in 57 chance.\n",
      "--------------------------\n",
      "Your chances of matching exactly 4 winning numbers are 0.096862%.\n",
      "In other words, you have a 1 in 1,032 chance.\n",
      "--------------------------\n",
      "Your chances of matching exactly 5 winning numbers are 0.001845%.\n",
      "In other words, you have a 1 in 54,201 chance.\n",
      "--------------------------\n"
     ]
    }
   ],
   "source": [
    "for test_input in [2, 3, 4, 5]:\n",
    "    probability_less_6(test_input)\n",
    "    print('--------------------------') # output delimiter"
   ]
  },
  {
   "cell_type": "markdown",
   "metadata": {},
   "source": [
    "### Ideas for the Next Version"
   ]
  },
  {
   "cell_type": "markdown",
   "metadata": {},
   "source": [
    "- Make the output more relatable using real-world comparisons (e.g. “You’re 100x more likely to be attacked by a shark than win the lottery”)\n",
    "\n",
    "- Combine **one_ticket_probability()** and **check_historical_occurrence()** into one function that reports both probability and historical frequency\n",
    "\n",
    "- Add a new function to calculate the probability of matching at least 2, 3, 4, or 5 numbers — by summing the probabilities of matching exactly that number or more (e.g., at least 4 = exactly 4 + 5 + 6 matches)"
   ]
  },
  {
   "cell_type": "code",
   "execution_count": null,
   "metadata": {
    "collapsed": true
   },
   "outputs": [],
   "source": []
  }
 ],
 "metadata": {
  "kernelspec": {
   "display_name": "Python 3",
   "language": "python",
   "name": "python3"
  },
  "language_info": {
   "codemirror_mode": {
    "name": "ipython",
    "version": 3
   },
   "file_extension": ".py",
   "mimetype": "text/x-python",
   "name": "python",
   "nbconvert_exporter": "python",
   "pygments_lexer": "ipython3",
   "version": "3.4.3"
  }
 },
 "nbformat": 4,
 "nbformat_minor": 2
}
